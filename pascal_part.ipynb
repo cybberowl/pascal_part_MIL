{
  "nbformat": 4,
  "nbformat_minor": 0,
  "metadata": {
    "colab": {
      "provenance": [],
      "gpuType": "T4",
      "authorship_tag": "ABX9TyPAfX6o5LuR+ZssVV0CUbi8",
      "include_colab_link": true
    },
    "kernelspec": {
      "name": "python3",
      "display_name": "Python 3"
    },
    "language_info": {
      "name": "python"
    },
    "accelerator": "GPU",
    "widgets": {
      "application/vnd.jupyter.widget-state+json": {
        "7c7102354dbc4c1eb98d3596175160ae": {
          "model_module": "@jupyter-widgets/controls",
          "model_name": "HBoxModel",
          "model_module_version": "1.5.0",
          "state": {
            "_dom_classes": [],
            "_model_module": "@jupyter-widgets/controls",
            "_model_module_version": "1.5.0",
            "_model_name": "HBoxModel",
            "_view_count": null,
            "_view_module": "@jupyter-widgets/controls",
            "_view_module_version": "1.5.0",
            "_view_name": "HBoxView",
            "box_style": "",
            "children": [
              "IPY_MODEL_f250e6c0859744cc9a48f9fced593ad1",
              "IPY_MODEL_ba142ccf1cd447d1932c6d25a93196f7",
              "IPY_MODEL_c1452d905374455b828382cea575753a"
            ],
            "layout": "IPY_MODEL_d8a5470f5f0b4b7696497ce28c6d2b55"
          }
        },
        "f250e6c0859744cc9a48f9fced593ad1": {
          "model_module": "@jupyter-widgets/controls",
          "model_name": "HTMLModel",
          "model_module_version": "1.5.0",
          "state": {
            "_dom_classes": [],
            "_model_module": "@jupyter-widgets/controls",
            "_model_module_version": "1.5.0",
            "_model_name": "HTMLModel",
            "_view_count": null,
            "_view_module": "@jupyter-widgets/controls",
            "_view_module_version": "1.5.0",
            "_view_name": "HTMLView",
            "description": "",
            "description_tooltip": null,
            "layout": "IPY_MODEL_35f9c68ffe354e5dbd6908c0a7f3f968",
            "placeholder": "​",
            "style": "IPY_MODEL_1ec456e49dde4ec3a74e2436bc9b87e8",
            "value": " 61%"
          }
        },
        "ba142ccf1cd447d1932c6d25a93196f7": {
          "model_module": "@jupyter-widgets/controls",
          "model_name": "FloatProgressModel",
          "model_module_version": "1.5.0",
          "state": {
            "_dom_classes": [],
            "_model_module": "@jupyter-widgets/controls",
            "_model_module_version": "1.5.0",
            "_model_name": "FloatProgressModel",
            "_view_count": null,
            "_view_module": "@jupyter-widgets/controls",
            "_view_module_version": "1.5.0",
            "_view_name": "ProgressView",
            "bar_style": "danger",
            "description": "",
            "description_tooltip": null,
            "layout": "IPY_MODEL_a706c0c3a50f42cca0bbf4b97f846238",
            "max": 133,
            "min": 0,
            "orientation": "horizontal",
            "style": "IPY_MODEL_832fd85130a94cbba1417826e5c488c0",
            "value": 81
          }
        },
        "c1452d905374455b828382cea575753a": {
          "model_module": "@jupyter-widgets/controls",
          "model_name": "HTMLModel",
          "model_module_version": "1.5.0",
          "state": {
            "_dom_classes": [],
            "_model_module": "@jupyter-widgets/controls",
            "_model_module_version": "1.5.0",
            "_model_name": "HTMLModel",
            "_view_count": null,
            "_view_module": "@jupyter-widgets/controls",
            "_view_module_version": "1.5.0",
            "_view_name": "HTMLView",
            "description": "",
            "description_tooltip": null,
            "layout": "IPY_MODEL_68f32d8309ce462a9885cefbebc56569",
            "placeholder": "​",
            "style": "IPY_MODEL_b1dcba93105244748ae6c594c32fb8bf",
            "value": " 81/133 [02:08&lt;01:20,  1.55s/it]"
          }
        },
        "d8a5470f5f0b4b7696497ce28c6d2b55": {
          "model_module": "@jupyter-widgets/base",
          "model_name": "LayoutModel",
          "model_module_version": "1.2.0",
          "state": {
            "_model_module": "@jupyter-widgets/base",
            "_model_module_version": "1.2.0",
            "_model_name": "LayoutModel",
            "_view_count": null,
            "_view_module": "@jupyter-widgets/base",
            "_view_module_version": "1.2.0",
            "_view_name": "LayoutView",
            "align_content": null,
            "align_items": null,
            "align_self": null,
            "border": null,
            "bottom": null,
            "display": null,
            "flex": null,
            "flex_flow": null,
            "grid_area": null,
            "grid_auto_columns": null,
            "grid_auto_flow": null,
            "grid_auto_rows": null,
            "grid_column": null,
            "grid_gap": null,
            "grid_row": null,
            "grid_template_areas": null,
            "grid_template_columns": null,
            "grid_template_rows": null,
            "height": null,
            "justify_content": null,
            "justify_items": null,
            "left": null,
            "margin": null,
            "max_height": null,
            "max_width": null,
            "min_height": null,
            "min_width": null,
            "object_fit": null,
            "object_position": null,
            "order": null,
            "overflow": null,
            "overflow_x": null,
            "overflow_y": null,
            "padding": null,
            "right": null,
            "top": null,
            "visibility": null,
            "width": null
          }
        },
        "35f9c68ffe354e5dbd6908c0a7f3f968": {
          "model_module": "@jupyter-widgets/base",
          "model_name": "LayoutModel",
          "model_module_version": "1.2.0",
          "state": {
            "_model_module": "@jupyter-widgets/base",
            "_model_module_version": "1.2.0",
            "_model_name": "LayoutModel",
            "_view_count": null,
            "_view_module": "@jupyter-widgets/base",
            "_view_module_version": "1.2.0",
            "_view_name": "LayoutView",
            "align_content": null,
            "align_items": null,
            "align_self": null,
            "border": null,
            "bottom": null,
            "display": null,
            "flex": null,
            "flex_flow": null,
            "grid_area": null,
            "grid_auto_columns": null,
            "grid_auto_flow": null,
            "grid_auto_rows": null,
            "grid_column": null,
            "grid_gap": null,
            "grid_row": null,
            "grid_template_areas": null,
            "grid_template_columns": null,
            "grid_template_rows": null,
            "height": null,
            "justify_content": null,
            "justify_items": null,
            "left": null,
            "margin": null,
            "max_height": null,
            "max_width": null,
            "min_height": null,
            "min_width": null,
            "object_fit": null,
            "object_position": null,
            "order": null,
            "overflow": null,
            "overflow_x": null,
            "overflow_y": null,
            "padding": null,
            "right": null,
            "top": null,
            "visibility": null,
            "width": null
          }
        },
        "1ec456e49dde4ec3a74e2436bc9b87e8": {
          "model_module": "@jupyter-widgets/controls",
          "model_name": "DescriptionStyleModel",
          "model_module_version": "1.5.0",
          "state": {
            "_model_module": "@jupyter-widgets/controls",
            "_model_module_version": "1.5.0",
            "_model_name": "DescriptionStyleModel",
            "_view_count": null,
            "_view_module": "@jupyter-widgets/base",
            "_view_module_version": "1.2.0",
            "_view_name": "StyleView",
            "description_width": ""
          }
        },
        "a706c0c3a50f42cca0bbf4b97f846238": {
          "model_module": "@jupyter-widgets/base",
          "model_name": "LayoutModel",
          "model_module_version": "1.2.0",
          "state": {
            "_model_module": "@jupyter-widgets/base",
            "_model_module_version": "1.2.0",
            "_model_name": "LayoutModel",
            "_view_count": null,
            "_view_module": "@jupyter-widgets/base",
            "_view_module_version": "1.2.0",
            "_view_name": "LayoutView",
            "align_content": null,
            "align_items": null,
            "align_self": null,
            "border": null,
            "bottom": null,
            "display": null,
            "flex": null,
            "flex_flow": null,
            "grid_area": null,
            "grid_auto_columns": null,
            "grid_auto_flow": null,
            "grid_auto_rows": null,
            "grid_column": null,
            "grid_gap": null,
            "grid_row": null,
            "grid_template_areas": null,
            "grid_template_columns": null,
            "grid_template_rows": null,
            "height": null,
            "justify_content": null,
            "justify_items": null,
            "left": null,
            "margin": null,
            "max_height": null,
            "max_width": null,
            "min_height": null,
            "min_width": null,
            "object_fit": null,
            "object_position": null,
            "order": null,
            "overflow": null,
            "overflow_x": null,
            "overflow_y": null,
            "padding": null,
            "right": null,
            "top": null,
            "visibility": null,
            "width": null
          }
        },
        "832fd85130a94cbba1417826e5c488c0": {
          "model_module": "@jupyter-widgets/controls",
          "model_name": "ProgressStyleModel",
          "model_module_version": "1.5.0",
          "state": {
            "_model_module": "@jupyter-widgets/controls",
            "_model_module_version": "1.5.0",
            "_model_name": "ProgressStyleModel",
            "_view_count": null,
            "_view_module": "@jupyter-widgets/base",
            "_view_module_version": "1.2.0",
            "_view_name": "StyleView",
            "bar_color": null,
            "description_width": ""
          }
        },
        "68f32d8309ce462a9885cefbebc56569": {
          "model_module": "@jupyter-widgets/base",
          "model_name": "LayoutModel",
          "model_module_version": "1.2.0",
          "state": {
            "_model_module": "@jupyter-widgets/base",
            "_model_module_version": "1.2.0",
            "_model_name": "LayoutModel",
            "_view_count": null,
            "_view_module": "@jupyter-widgets/base",
            "_view_module_version": "1.2.0",
            "_view_name": "LayoutView",
            "align_content": null,
            "align_items": null,
            "align_self": null,
            "border": null,
            "bottom": null,
            "display": null,
            "flex": null,
            "flex_flow": null,
            "grid_area": null,
            "grid_auto_columns": null,
            "grid_auto_flow": null,
            "grid_auto_rows": null,
            "grid_column": null,
            "grid_gap": null,
            "grid_row": null,
            "grid_template_areas": null,
            "grid_template_columns": null,
            "grid_template_rows": null,
            "height": null,
            "justify_content": null,
            "justify_items": null,
            "left": null,
            "margin": null,
            "max_height": null,
            "max_width": null,
            "min_height": null,
            "min_width": null,
            "object_fit": null,
            "object_position": null,
            "order": null,
            "overflow": null,
            "overflow_x": null,
            "overflow_y": null,
            "padding": null,
            "right": null,
            "top": null,
            "visibility": null,
            "width": null
          }
        },
        "b1dcba93105244748ae6c594c32fb8bf": {
          "model_module": "@jupyter-widgets/controls",
          "model_name": "DescriptionStyleModel",
          "model_module_version": "1.5.0",
          "state": {
            "_model_module": "@jupyter-widgets/controls",
            "_model_module_version": "1.5.0",
            "_model_name": "DescriptionStyleModel",
            "_view_count": null,
            "_view_module": "@jupyter-widgets/base",
            "_view_module_version": "1.2.0",
            "_view_name": "StyleView",
            "description_width": ""
          }
        },
        "8f28a20caa5a4fbd8bc0c642b293a03e": {
          "model_module": "@jupyter-widgets/controls",
          "model_name": "HBoxModel",
          "model_module_version": "1.5.0",
          "state": {
            "_dom_classes": [],
            "_model_module": "@jupyter-widgets/controls",
            "_model_module_version": "1.5.0",
            "_model_name": "HBoxModel",
            "_view_count": null,
            "_view_module": "@jupyter-widgets/controls",
            "_view_module_version": "1.5.0",
            "_view_name": "HBoxView",
            "box_style": "",
            "children": [
              "IPY_MODEL_1758b0df143c4ac08e301ebad3126771",
              "IPY_MODEL_a2b66e17d3c744c9b7c6c43129abb11c",
              "IPY_MODEL_58a6cb2fe835427a9bfc01b73747b16f"
            ],
            "layout": "IPY_MODEL_95fc5cdcda6b431fbe8f4becacb640c8"
          }
        },
        "1758b0df143c4ac08e301ebad3126771": {
          "model_module": "@jupyter-widgets/controls",
          "model_name": "HTMLModel",
          "model_module_version": "1.5.0",
          "state": {
            "_dom_classes": [],
            "_model_module": "@jupyter-widgets/controls",
            "_model_module_version": "1.5.0",
            "_model_name": "HTMLModel",
            "_view_count": null,
            "_view_module": "@jupyter-widgets/controls",
            "_view_module_version": "1.5.0",
            "_view_name": "HTMLView",
            "description": "",
            "description_tooltip": null,
            "layout": "IPY_MODEL_beaf46bee7c6476795e68e9368b6f104",
            "placeholder": "​",
            "style": "IPY_MODEL_1bcdaf82c31040c892f88c32cf056d63",
            "value": "100%"
          }
        },
        "a2b66e17d3c744c9b7c6c43129abb11c": {
          "model_module": "@jupyter-widgets/controls",
          "model_name": "FloatProgressModel",
          "model_module_version": "1.5.0",
          "state": {
            "_dom_classes": [],
            "_model_module": "@jupyter-widgets/controls",
            "_model_module_version": "1.5.0",
            "_model_name": "FloatProgressModel",
            "_view_count": null,
            "_view_module": "@jupyter-widgets/controls",
            "_view_module_version": "1.5.0",
            "_view_name": "ProgressView",
            "bar_style": "success",
            "description": "",
            "description_tooltip": null,
            "layout": "IPY_MODEL_353d41a58ce94cfea026110f28f54c8c",
            "max": 45,
            "min": 0,
            "orientation": "horizontal",
            "style": "IPY_MODEL_a84ed1cf81a14f379d7899843690ff21",
            "value": 45
          }
        },
        "58a6cb2fe835427a9bfc01b73747b16f": {
          "model_module": "@jupyter-widgets/controls",
          "model_name": "HTMLModel",
          "model_module_version": "1.5.0",
          "state": {
            "_dom_classes": [],
            "_model_module": "@jupyter-widgets/controls",
            "_model_module_version": "1.5.0",
            "_model_name": "HTMLModel",
            "_view_count": null,
            "_view_module": "@jupyter-widgets/controls",
            "_view_module_version": "1.5.0",
            "_view_name": "HTMLView",
            "description": "",
            "description_tooltip": null,
            "layout": "IPY_MODEL_5eeca66d160648178209bff5b14232b9",
            "placeholder": "​",
            "style": "IPY_MODEL_ae01f1817b7049dda8c6b35fca6255b1",
            "value": " 45/45 [00:24&lt;00:00,  2.74it/s]"
          }
        },
        "95fc5cdcda6b431fbe8f4becacb640c8": {
          "model_module": "@jupyter-widgets/base",
          "model_name": "LayoutModel",
          "model_module_version": "1.2.0",
          "state": {
            "_model_module": "@jupyter-widgets/base",
            "_model_module_version": "1.2.0",
            "_model_name": "LayoutModel",
            "_view_count": null,
            "_view_module": "@jupyter-widgets/base",
            "_view_module_version": "1.2.0",
            "_view_name": "LayoutView",
            "align_content": null,
            "align_items": null,
            "align_self": null,
            "border": null,
            "bottom": null,
            "display": null,
            "flex": null,
            "flex_flow": null,
            "grid_area": null,
            "grid_auto_columns": null,
            "grid_auto_flow": null,
            "grid_auto_rows": null,
            "grid_column": null,
            "grid_gap": null,
            "grid_row": null,
            "grid_template_areas": null,
            "grid_template_columns": null,
            "grid_template_rows": null,
            "height": null,
            "justify_content": null,
            "justify_items": null,
            "left": null,
            "margin": null,
            "max_height": null,
            "max_width": null,
            "min_height": null,
            "min_width": null,
            "object_fit": null,
            "object_position": null,
            "order": null,
            "overflow": null,
            "overflow_x": null,
            "overflow_y": null,
            "padding": null,
            "right": null,
            "top": null,
            "visibility": null,
            "width": null
          }
        },
        "beaf46bee7c6476795e68e9368b6f104": {
          "model_module": "@jupyter-widgets/base",
          "model_name": "LayoutModel",
          "model_module_version": "1.2.0",
          "state": {
            "_model_module": "@jupyter-widgets/base",
            "_model_module_version": "1.2.0",
            "_model_name": "LayoutModel",
            "_view_count": null,
            "_view_module": "@jupyter-widgets/base",
            "_view_module_version": "1.2.0",
            "_view_name": "LayoutView",
            "align_content": null,
            "align_items": null,
            "align_self": null,
            "border": null,
            "bottom": null,
            "display": null,
            "flex": null,
            "flex_flow": null,
            "grid_area": null,
            "grid_auto_columns": null,
            "grid_auto_flow": null,
            "grid_auto_rows": null,
            "grid_column": null,
            "grid_gap": null,
            "grid_row": null,
            "grid_template_areas": null,
            "grid_template_columns": null,
            "grid_template_rows": null,
            "height": null,
            "justify_content": null,
            "justify_items": null,
            "left": null,
            "margin": null,
            "max_height": null,
            "max_width": null,
            "min_height": null,
            "min_width": null,
            "object_fit": null,
            "object_position": null,
            "order": null,
            "overflow": null,
            "overflow_x": null,
            "overflow_y": null,
            "padding": null,
            "right": null,
            "top": null,
            "visibility": null,
            "width": null
          }
        },
        "1bcdaf82c31040c892f88c32cf056d63": {
          "model_module": "@jupyter-widgets/controls",
          "model_name": "DescriptionStyleModel",
          "model_module_version": "1.5.0",
          "state": {
            "_model_module": "@jupyter-widgets/controls",
            "_model_module_version": "1.5.0",
            "_model_name": "DescriptionStyleModel",
            "_view_count": null,
            "_view_module": "@jupyter-widgets/base",
            "_view_module_version": "1.2.0",
            "_view_name": "StyleView",
            "description_width": ""
          }
        },
        "353d41a58ce94cfea026110f28f54c8c": {
          "model_module": "@jupyter-widgets/base",
          "model_name": "LayoutModel",
          "model_module_version": "1.2.0",
          "state": {
            "_model_module": "@jupyter-widgets/base",
            "_model_module_version": "1.2.0",
            "_model_name": "LayoutModel",
            "_view_count": null,
            "_view_module": "@jupyter-widgets/base",
            "_view_module_version": "1.2.0",
            "_view_name": "LayoutView",
            "align_content": null,
            "align_items": null,
            "align_self": null,
            "border": null,
            "bottom": null,
            "display": null,
            "flex": null,
            "flex_flow": null,
            "grid_area": null,
            "grid_auto_columns": null,
            "grid_auto_flow": null,
            "grid_auto_rows": null,
            "grid_column": null,
            "grid_gap": null,
            "grid_row": null,
            "grid_template_areas": null,
            "grid_template_columns": null,
            "grid_template_rows": null,
            "height": null,
            "justify_content": null,
            "justify_items": null,
            "left": null,
            "margin": null,
            "max_height": null,
            "max_width": null,
            "min_height": null,
            "min_width": null,
            "object_fit": null,
            "object_position": null,
            "order": null,
            "overflow": null,
            "overflow_x": null,
            "overflow_y": null,
            "padding": null,
            "right": null,
            "top": null,
            "visibility": null,
            "width": null
          }
        },
        "a84ed1cf81a14f379d7899843690ff21": {
          "model_module": "@jupyter-widgets/controls",
          "model_name": "ProgressStyleModel",
          "model_module_version": "1.5.0",
          "state": {
            "_model_module": "@jupyter-widgets/controls",
            "_model_module_version": "1.5.0",
            "_model_name": "ProgressStyleModel",
            "_view_count": null,
            "_view_module": "@jupyter-widgets/base",
            "_view_module_version": "1.2.0",
            "_view_name": "StyleView",
            "bar_color": null,
            "description_width": ""
          }
        },
        "5eeca66d160648178209bff5b14232b9": {
          "model_module": "@jupyter-widgets/base",
          "model_name": "LayoutModel",
          "model_module_version": "1.2.0",
          "state": {
            "_model_module": "@jupyter-widgets/base",
            "_model_module_version": "1.2.0",
            "_model_name": "LayoutModel",
            "_view_count": null,
            "_view_module": "@jupyter-widgets/base",
            "_view_module_version": "1.2.0",
            "_view_name": "LayoutView",
            "align_content": null,
            "align_items": null,
            "align_self": null,
            "border": null,
            "bottom": null,
            "display": null,
            "flex": null,
            "flex_flow": null,
            "grid_area": null,
            "grid_auto_columns": null,
            "grid_auto_flow": null,
            "grid_auto_rows": null,
            "grid_column": null,
            "grid_gap": null,
            "grid_row": null,
            "grid_template_areas": null,
            "grid_template_columns": null,
            "grid_template_rows": null,
            "height": null,
            "justify_content": null,
            "justify_items": null,
            "left": null,
            "margin": null,
            "max_height": null,
            "max_width": null,
            "min_height": null,
            "min_width": null,
            "object_fit": null,
            "object_position": null,
            "order": null,
            "overflow": null,
            "overflow_x": null,
            "overflow_y": null,
            "padding": null,
            "right": null,
            "top": null,
            "visibility": null,
            "width": null
          }
        },
        "ae01f1817b7049dda8c6b35fca6255b1": {
          "model_module": "@jupyter-widgets/controls",
          "model_name": "DescriptionStyleModel",
          "model_module_version": "1.5.0",
          "state": {
            "_model_module": "@jupyter-widgets/controls",
            "_model_module_version": "1.5.0",
            "_model_name": "DescriptionStyleModel",
            "_view_count": null,
            "_view_module": "@jupyter-widgets/base",
            "_view_module_version": "1.2.0",
            "_view_name": "StyleView",
            "description_width": ""
          }
        },
        "621d66ada7954f558e538c7840dd6e48": {
          "model_module": "@jupyter-widgets/controls",
          "model_name": "HBoxModel",
          "model_module_version": "1.5.0",
          "state": {
            "_dom_classes": [],
            "_model_module": "@jupyter-widgets/controls",
            "_model_module_version": "1.5.0",
            "_model_name": "HBoxModel",
            "_view_count": null,
            "_view_module": "@jupyter-widgets/controls",
            "_view_module_version": "1.5.0",
            "_view_name": "HBoxView",
            "box_style": "",
            "children": [
              "IPY_MODEL_fab1113eacfa4e4bb54043571318f3ea",
              "IPY_MODEL_5e1a479bc0f1404da70632592780b652",
              "IPY_MODEL_18ef6079aa4e4f68ba593141e2468ec4"
            ],
            "layout": "IPY_MODEL_53d7153629454e3b85a47442c23e01a0"
          }
        },
        "fab1113eacfa4e4bb54043571318f3ea": {
          "model_module": "@jupyter-widgets/controls",
          "model_name": "HTMLModel",
          "model_module_version": "1.5.0",
          "state": {
            "_dom_classes": [],
            "_model_module": "@jupyter-widgets/controls",
            "_model_module_version": "1.5.0",
            "_model_name": "HTMLModel",
            "_view_count": null,
            "_view_module": "@jupyter-widgets/controls",
            "_view_module_version": "1.5.0",
            "_view_name": "HTMLView",
            "description": "",
            "description_tooltip": null,
            "layout": "IPY_MODEL_d704a564e3584f5b813e48311e5c9129",
            "placeholder": "​",
            "style": "IPY_MODEL_3af7a62023fd46809229316d84c34a23",
            "value": "100%"
          }
        },
        "5e1a479bc0f1404da70632592780b652": {
          "model_module": "@jupyter-widgets/controls",
          "model_name": "FloatProgressModel",
          "model_module_version": "1.5.0",
          "state": {
            "_dom_classes": [],
            "_model_module": "@jupyter-widgets/controls",
            "_model_module_version": "1.5.0",
            "_model_name": "FloatProgressModel",
            "_view_count": null,
            "_view_module": "@jupyter-widgets/controls",
            "_view_module_version": "1.5.0",
            "_view_name": "ProgressView",
            "bar_style": "success",
            "description": "",
            "description_tooltip": null,
            "layout": "IPY_MODEL_dc5b83c0990e40b5a0cecdbfcf6cf1c1",
            "max": 45,
            "min": 0,
            "orientation": "horizontal",
            "style": "IPY_MODEL_f62f36461af847bf927acfa5a21eb889",
            "value": 45
          }
        },
        "18ef6079aa4e4f68ba593141e2468ec4": {
          "model_module": "@jupyter-widgets/controls",
          "model_name": "HTMLModel",
          "model_module_version": "1.5.0",
          "state": {
            "_dom_classes": [],
            "_model_module": "@jupyter-widgets/controls",
            "_model_module_version": "1.5.0",
            "_model_name": "HTMLModel",
            "_view_count": null,
            "_view_module": "@jupyter-widgets/controls",
            "_view_module_version": "1.5.0",
            "_view_name": "HTMLView",
            "description": "",
            "description_tooltip": null,
            "layout": "IPY_MODEL_7d07718329804ef9b8b15e9c99c3111a",
            "placeholder": "​",
            "style": "IPY_MODEL_e027f1532d8149f6a239d6cd773a55bc",
            "value": " 45/45 [00:23&lt;00:00,  2.68it/s]"
          }
        },
        "53d7153629454e3b85a47442c23e01a0": {
          "model_module": "@jupyter-widgets/base",
          "model_name": "LayoutModel",
          "model_module_version": "1.2.0",
          "state": {
            "_model_module": "@jupyter-widgets/base",
            "_model_module_version": "1.2.0",
            "_model_name": "LayoutModel",
            "_view_count": null,
            "_view_module": "@jupyter-widgets/base",
            "_view_module_version": "1.2.0",
            "_view_name": "LayoutView",
            "align_content": null,
            "align_items": null,
            "align_self": null,
            "border": null,
            "bottom": null,
            "display": null,
            "flex": null,
            "flex_flow": null,
            "grid_area": null,
            "grid_auto_columns": null,
            "grid_auto_flow": null,
            "grid_auto_rows": null,
            "grid_column": null,
            "grid_gap": null,
            "grid_row": null,
            "grid_template_areas": null,
            "grid_template_columns": null,
            "grid_template_rows": null,
            "height": null,
            "justify_content": null,
            "justify_items": null,
            "left": null,
            "margin": null,
            "max_height": null,
            "max_width": null,
            "min_height": null,
            "min_width": null,
            "object_fit": null,
            "object_position": null,
            "order": null,
            "overflow": null,
            "overflow_x": null,
            "overflow_y": null,
            "padding": null,
            "right": null,
            "top": null,
            "visibility": null,
            "width": null
          }
        },
        "d704a564e3584f5b813e48311e5c9129": {
          "model_module": "@jupyter-widgets/base",
          "model_name": "LayoutModel",
          "model_module_version": "1.2.0",
          "state": {
            "_model_module": "@jupyter-widgets/base",
            "_model_module_version": "1.2.0",
            "_model_name": "LayoutModel",
            "_view_count": null,
            "_view_module": "@jupyter-widgets/base",
            "_view_module_version": "1.2.0",
            "_view_name": "LayoutView",
            "align_content": null,
            "align_items": null,
            "align_self": null,
            "border": null,
            "bottom": null,
            "display": null,
            "flex": null,
            "flex_flow": null,
            "grid_area": null,
            "grid_auto_columns": null,
            "grid_auto_flow": null,
            "grid_auto_rows": null,
            "grid_column": null,
            "grid_gap": null,
            "grid_row": null,
            "grid_template_areas": null,
            "grid_template_columns": null,
            "grid_template_rows": null,
            "height": null,
            "justify_content": null,
            "justify_items": null,
            "left": null,
            "margin": null,
            "max_height": null,
            "max_width": null,
            "min_height": null,
            "min_width": null,
            "object_fit": null,
            "object_position": null,
            "order": null,
            "overflow": null,
            "overflow_x": null,
            "overflow_y": null,
            "padding": null,
            "right": null,
            "top": null,
            "visibility": null,
            "width": null
          }
        },
        "3af7a62023fd46809229316d84c34a23": {
          "model_module": "@jupyter-widgets/controls",
          "model_name": "DescriptionStyleModel",
          "model_module_version": "1.5.0",
          "state": {
            "_model_module": "@jupyter-widgets/controls",
            "_model_module_version": "1.5.0",
            "_model_name": "DescriptionStyleModel",
            "_view_count": null,
            "_view_module": "@jupyter-widgets/base",
            "_view_module_version": "1.2.0",
            "_view_name": "StyleView",
            "description_width": ""
          }
        },
        "dc5b83c0990e40b5a0cecdbfcf6cf1c1": {
          "model_module": "@jupyter-widgets/base",
          "model_name": "LayoutModel",
          "model_module_version": "1.2.0",
          "state": {
            "_model_module": "@jupyter-widgets/base",
            "_model_module_version": "1.2.0",
            "_model_name": "LayoutModel",
            "_view_count": null,
            "_view_module": "@jupyter-widgets/base",
            "_view_module_version": "1.2.0",
            "_view_name": "LayoutView",
            "align_content": null,
            "align_items": null,
            "align_self": null,
            "border": null,
            "bottom": null,
            "display": null,
            "flex": null,
            "flex_flow": null,
            "grid_area": null,
            "grid_auto_columns": null,
            "grid_auto_flow": null,
            "grid_auto_rows": null,
            "grid_column": null,
            "grid_gap": null,
            "grid_row": null,
            "grid_template_areas": null,
            "grid_template_columns": null,
            "grid_template_rows": null,
            "height": null,
            "justify_content": null,
            "justify_items": null,
            "left": null,
            "margin": null,
            "max_height": null,
            "max_width": null,
            "min_height": null,
            "min_width": null,
            "object_fit": null,
            "object_position": null,
            "order": null,
            "overflow": null,
            "overflow_x": null,
            "overflow_y": null,
            "padding": null,
            "right": null,
            "top": null,
            "visibility": null,
            "width": null
          }
        },
        "f62f36461af847bf927acfa5a21eb889": {
          "model_module": "@jupyter-widgets/controls",
          "model_name": "ProgressStyleModel",
          "model_module_version": "1.5.0",
          "state": {
            "_model_module": "@jupyter-widgets/controls",
            "_model_module_version": "1.5.0",
            "_model_name": "ProgressStyleModel",
            "_view_count": null,
            "_view_module": "@jupyter-widgets/base",
            "_view_module_version": "1.2.0",
            "_view_name": "StyleView",
            "bar_color": null,
            "description_width": ""
          }
        },
        "7d07718329804ef9b8b15e9c99c3111a": {
          "model_module": "@jupyter-widgets/base",
          "model_name": "LayoutModel",
          "model_module_version": "1.2.0",
          "state": {
            "_model_module": "@jupyter-widgets/base",
            "_model_module_version": "1.2.0",
            "_model_name": "LayoutModel",
            "_view_count": null,
            "_view_module": "@jupyter-widgets/base",
            "_view_module_version": "1.2.0",
            "_view_name": "LayoutView",
            "align_content": null,
            "align_items": null,
            "align_self": null,
            "border": null,
            "bottom": null,
            "display": null,
            "flex": null,
            "flex_flow": null,
            "grid_area": null,
            "grid_auto_columns": null,
            "grid_auto_flow": null,
            "grid_auto_rows": null,
            "grid_column": null,
            "grid_gap": null,
            "grid_row": null,
            "grid_template_areas": null,
            "grid_template_columns": null,
            "grid_template_rows": null,
            "height": null,
            "justify_content": null,
            "justify_items": null,
            "left": null,
            "margin": null,
            "max_height": null,
            "max_width": null,
            "min_height": null,
            "min_width": null,
            "object_fit": null,
            "object_position": null,
            "order": null,
            "overflow": null,
            "overflow_x": null,
            "overflow_y": null,
            "padding": null,
            "right": null,
            "top": null,
            "visibility": null,
            "width": null
          }
        },
        "e027f1532d8149f6a239d6cd773a55bc": {
          "model_module": "@jupyter-widgets/controls",
          "model_name": "DescriptionStyleModel",
          "model_module_version": "1.5.0",
          "state": {
            "_model_module": "@jupyter-widgets/controls",
            "_model_module_version": "1.5.0",
            "_model_name": "DescriptionStyleModel",
            "_view_count": null,
            "_view_module": "@jupyter-widgets/base",
            "_view_module_version": "1.2.0",
            "_view_name": "StyleView",
            "description_width": ""
          }
        }
      }
    }
  },
  "cells": [
    {
      "cell_type": "markdown",
      "metadata": {
        "id": "view-in-github",
        "colab_type": "text"
      },
      "source": [
        "<a href=\"https://colab.research.google.com/github/cybberowl/pascal_part_MIL/blob/main/pascal_part.ipynb\" target=\"_parent\"><img src=\"https://colab.research.google.com/assets/colab-badge.svg\" alt=\"Open In Colab\"/></a>"
      ]
    },
    {
      "cell_type": "code",
      "source": [
        "colab_path = 'Pascal-part.zip'\n",
        "local_zip_path = 'data.zip'\n",
        "data_path = 'Pascal-part'"
      ],
      "metadata": {
        "id": "MjuXmEkSG25V"
      },
      "execution_count": null,
      "outputs": []
    },
    {
      "cell_type": "code",
      "source": [
        "from google.colab import drive\n",
        "drive.mount('/content/gdrive')\n"
      ],
      "metadata": {
        "id": "1BovmNvqJBWN",
        "colab": {
          "base_uri": "https://localhost:8080/"
        },
        "outputId": "0b0039b2-74d6-458a-8450-6c82bef53a30"
      },
      "execution_count": null,
      "outputs": [
        {
          "output_type": "stream",
          "name": "stdout",
          "text": [
            "Drive already mounted at /content/gdrive; to attempt to forcibly remount, call drive.mount(\"/content/gdrive\", force_remount=True).\n"
          ]
        }
      ]
    },
    {
      "cell_type": "code",
      "source": [
        "!cp '/content/gdrive/My Drive/{colab_path}' {local_zip_path}"
      ],
      "metadata": {
        "id": "1NvhHgw_JE2-"
      },
      "execution_count": null,
      "outputs": []
    },
    {
      "cell_type": "code",
      "source": [
        "get_ipython().system_raw(f\"unzip {local_zip_path}\")"
      ],
      "metadata": {
        "id": "fQ73k5fKJOaL"
      },
      "execution_count": null,
      "outputs": []
    },
    {
      "cell_type": "code",
      "source": [
        "from pathlib import Path\n",
        "import yaml"
      ],
      "metadata": {
        "id": "sxPEShjPKWXY"
      },
      "execution_count": null,
      "outputs": []
    },
    {
      "cell_type": "code",
      "source": [
        "train_labels_path = Path(data_path)/'train_id.txt'\n",
        "test_labels_path = Path(data_path)/'val_id.txt'\n",
        "images_path = Path(data_path)/'JPEGImages'\n",
        "masks_path = Path(data_path)/'gt_masks'\n",
        "classes_path = Path(data_path)/'classes.txt'"
      ],
      "metadata": {
        "id": "X4OaVmx1KvFG"
      },
      "execution_count": null,
      "outputs": []
    },
    {
      "cell_type": "code",
      "source": [
        "with open(train_labels_path,'r') as f:\n",
        "    train_labels = f.read().split('\\n')\n",
        "\n",
        "with open(test_labels_path,'r') as f:\n",
        "    test_labels = f.read().split('\\n')\n",
        "\n",
        "with open(classes_path,'r') as f:\n",
        "    classes_signature = yaml.safe_load(f)"
      ],
      "metadata": {
        "id": "h8cNrRl9LVfr"
      },
      "execution_count": null,
      "outputs": []
    },
    {
      "cell_type": "code",
      "source": [
        "classes_signature"
      ],
      "metadata": {
        "colab": {
          "base_uri": "https://localhost:8080/"
        },
        "id": "NWocu1R5LaSi",
        "outputId": "15626065-a21f-482b-fee8-a91bfc5b708d"
      },
      "execution_count": null,
      "outputs": [
        {
          "output_type": "execute_result",
          "data": {
            "text/plain": [
              "{0: 'bg',\n",
              " 1: 'low_hand',\n",
              " 2: 'torso',\n",
              " 3: 'low_leg',\n",
              " 4: 'head',\n",
              " 5: 'up_leg',\n",
              " 6: 'up_hand'}"
            ]
          },
          "metadata": {},
          "execution_count": 8
        }
      ]
    },
    {
      "cell_type": "markdown",
      "source": [
        "```\n",
        "├── (0) background\n",
        "└── body\n",
        "    ├── upper_body\n",
        "    |   ├── (1) low_hand\n",
        "    |   ├── (6) up_hand\n",
        "    |   ├── (2) torso\n",
        "    |   └── (4) head\n",
        "    └── lower_body\n",
        "        ├── (3) low_leg\n",
        "        └── (5) up_leg\n",
        "```"
      ],
      "metadata": {
        "id": "U6AdGzV6M1Zi"
      }
    },
    {
      "cell_type": "code",
      "source": [
        "classes_hierarchy = {\n",
        "    'bg':0,\n",
        "    'body':{\n",
        "        'upper_body': {\n",
        "            'low_hand' : 1,\n",
        "            'up_hand' : 6,\n",
        "            'torso' : 2,\n",
        "            'head' : 4\n",
        "        },\n",
        "        'lower_body': {\n",
        "            'low_leg': 3,\n",
        "            'up_leg' : 5\n",
        "        }\n",
        "    }\n",
        "    }"
      ],
      "metadata": {
        "id": "_qoUlMPOMgjc"
      },
      "execution_count": null,
      "outputs": []
    },
    {
      "cell_type": "code",
      "source": [
        "import numpy as np\n",
        "\n",
        "def flatten_nested_dict(input_d, output_d):\n",
        "    ### return all values of subdictionaries\n",
        "    res_dict = {}\n",
        "    values = []\n",
        "    for k,v in input_d.items():\n",
        "        if not isinstance(v,dict):\n",
        "            output_d[k] = [v]\n",
        "            values.append(v)\n",
        "        else:\n",
        "            sub_values = flatten_nested_dict(v, output_d)\n",
        "            output_d[k] = sub_values\n",
        "            values = values + sub_values\n",
        "\n",
        "    return values\n",
        "\n",
        "def depth_of_keys(d):\n",
        "\n",
        "    res = {}\n",
        "\n",
        "    for k,v in d.items():\n",
        "        res[k] = 1\n",
        "        if isinstance(v,dict):\n",
        "            sub_depth = depth_of_keys(v)\n",
        "            for subk,subv in sub_depth.items():\n",
        "                res[subk] = subv + 1\n",
        "\n",
        "    return res\n",
        "\n",
        "def make_classes_mapping(classes_hierarchy, exclude_keys):\n",
        "\n",
        "    assert(isinstance(exclude_keys,list))\n",
        "\n",
        "    values_dict = {}\n",
        "    flatten_nested_dict(classes_hierarchy, values_dict)\n",
        "    depth = depth_of_keys(classes_hierarchy)\n",
        "\n",
        "    class_content = {}\n",
        "\n",
        "    for k in values_dict:\n",
        "        dep_k = depth[k]\n",
        "        if f'level_{dep_k}' not in class_content:\n",
        "            class_content[f'level_{dep_k}'] = {}\n",
        "        if k not in exclude_keys:\n",
        "            class_content[f'level_{dep_k}'][k] = values_dict[k]\n",
        "\n",
        "    return class_content\n"
      ],
      "metadata": {
        "id": "t0CciIT2Qa07"
      },
      "execution_count": null,
      "outputs": []
    },
    {
      "cell_type": "code",
      "source": [
        "class_content = make_classes_mapping(classes_hierarchy, ['bg'])"
      ],
      "metadata": {
        "id": "guafTEJ2Ru1U"
      },
      "execution_count": null,
      "outputs": []
    },
    {
      "cell_type": "code",
      "source": [
        "class_content"
      ],
      "metadata": {
        "colab": {
          "base_uri": "https://localhost:8080/"
        },
        "id": "SWa-qFMxUuAN",
        "outputId": "0af42fb9-379a-4373-f451-acc19385d3de"
      },
      "execution_count": null,
      "outputs": [
        {
          "output_type": "execute_result",
          "data": {
            "text/plain": [
              "{'level_1': {'body': [1, 6, 2, 4, 3, 5]},\n",
              " 'level_3': {'low_hand': [1],\n",
              "  'up_hand': [6],\n",
              "  'torso': [2],\n",
              "  'head': [4],\n",
              "  'low_leg': [3],\n",
              "  'up_leg': [5]},\n",
              " 'level_2': {'upper_body': [1, 6, 2, 4], 'lower_body': [3, 5]}}"
            ]
          },
          "metadata": {},
          "execution_count": 12
        }
      ]
    },
    {
      "cell_type": "code",
      "source": [
        "N_LEVELS = 3\n",
        "N_CLASSES = 7"
      ],
      "metadata": {
        "id": "cDgXfqd4I74d"
      },
      "execution_count": null,
      "outputs": []
    },
    {
      "cell_type": "code",
      "source": [
        "import torch\n",
        "def decompose_mask(mask:torch.Tensor,class_content):\n",
        "    '''\n",
        "    convert one mask to N_LEVELS masks\n",
        "    mask in tensor BS x H x W\n",
        "    '''\n",
        "    assert(mask.ndim == 3)\n",
        "    res = []\n",
        "    for level in sorted(class_content,key = lambda x: int(x.split('_')[1])):\n",
        "        new_mask = mask.clone().to(device)\n",
        "        counter = 1\n",
        "        for key, classes in class_content[level].items():\n",
        "            ### counter is label for new class on mid levels\n",
        "            ### for lowest level (classes is singleton list) we use original labels\n",
        "            ### bg class always remains 0 on every level\n",
        "            new_mask[torch.isin(mask,torch.Tensor(classes).to(device))] = counter if len(classes) > 1 else classes[0]\n",
        "            counter += 1\n",
        "        res.append(new_mask)\n",
        "    return res"
      ],
      "metadata": {
        "id": "p26SA04p_Rci"
      },
      "execution_count": null,
      "outputs": []
    },
    {
      "cell_type": "code",
      "source": [
        "def aggregate_probs(probs: torch.Tensor, class_content, bg_class = 0):\n",
        "    '''\n",
        "    aggregate low-level probabilities to N_LEVELS probabilities of higher classes\n",
        "    probs is tensor BS x C x H x W\n",
        "    '''\n",
        "    res = []\n",
        "    for level in sorted(class_content,key = lambda x: int(x.split('_')[1])):\n",
        "\n",
        "        shape = list(probs.shape)\n",
        "        shape[1] = len(class_content[level]) + 1 ### extra size for bg class\n",
        "        new_probs = torch.zeros(size = shape, dtype = torch.float32).to(device)\n",
        "        idx = 0\n",
        "        new_probs[:,idx,...] = probs[:,bg_class,...] ### here we use it\n",
        "        for key, classes in class_content[level].items():\n",
        "            idx += 1\n",
        "            for c in classes:\n",
        "                new_probs[:,idx,...] += probs[:,c,...]\n",
        "        res.append(new_probs)\n",
        "    return res"
      ],
      "metadata": {
        "id": "qAUqHAE_LWfS"
      },
      "execution_count": null,
      "outputs": []
    },
    {
      "cell_type": "code",
      "source": [
        "import torch\n",
        "import numpy as np\n",
        "\n",
        "class HierarchicalMIoU:\n",
        "\n",
        "    def __init__(self, class_content, smooth = 1e-8):\n",
        "        self.class_content = class_content\n",
        "        self.smooth = smooth\n",
        "        self.n_levels = len(class_content)\n",
        "\n",
        "    def iou(self, outputs : np.array, labels: np.array):\n",
        "\n",
        "        #inputs are boolean BS x W x H arrays\n",
        "\n",
        "        assert(isinstance(outputs,np.ndarray))\n",
        "        assert(isinstance(labels,np.ndarray))\n",
        "        assert(outputs.ndim == 3)\n",
        "        assert(labels.ndim == 3)\n",
        "        assert(outputs.dtype == np.bool_)\n",
        "        assert(labels.dtype == np.bool_)\n",
        "\n",
        "        num = (outputs & labels).sum((1,2)) ### sum over BS x W x H\n",
        "        denum = (outputs | labels).sum((1,2)) ### sum over BS x W x H\n",
        "        metric = (num+self.smooth) / (denum + self.smooth) ### smooth for numerical stability\n",
        "        metric = metric.mean() ### mean value over batch\n",
        "\n",
        "        return metric.item()\n",
        "\n",
        "    def __call__(self, outputs: list, labels: torch.Tensor):\n",
        "\n",
        "        ### outputs is list of N_LEVELS tensors of shape BS x H x W\n",
        "        ### labels is tensor of shape BS x H x W\n",
        "\n",
        "        assert (len(outputs) == self.n_levels)\n",
        "        labels = decompose_mask(labels,self.class_content)\n",
        "        ### now labels is list of  N_LEVELS tensors of shape BS x H x W\n",
        "\n",
        "        error = {}\n",
        "\n",
        "        for i in range(self.n_levels):\n",
        "            level = f'level_{i+1}'\n",
        "            error[level] = 0.0\n",
        "            for j,key in enumerate(self.class_content[level]):\n",
        "                metric = self.iou((outputs[i].to('cpu').numpy()==j),(labels[i].to('cpu').numpy() == j))\n",
        "                error[level+'_'+key] = metric\n",
        "                error[level] += metric\n",
        "            error[level] /= len(self.class_content[level])\n",
        "\n",
        "        return error"
      ],
      "metadata": {
        "id": "XI6QWzcbPks6"
      },
      "execution_count": null,
      "outputs": []
    },
    {
      "cell_type": "code",
      "source": [
        "import torch.nn.functional as F\n",
        "\n",
        "class SimpleHierarchicalClassSelector:\n",
        "\n",
        "    def __init__(self, class_content):\n",
        "\n",
        "        self.class_content = class_content\n",
        "\n",
        "    def __call__(self, x_batch):\n",
        "\n",
        "        ### x_batch is BS x C x H x W\n",
        "\n",
        "        prob = F.softmax(x_batch, dim = 1) # BS x C x H x W -> BS x C x H x W\n",
        "        labels = torch.argmax(prob, dim = 1) # BS x C x H x W -> BS x H x W\n",
        "\n",
        "        res = decompose_mask(labels, self.class_content) # BS x H x W  -> list of BS x H x W\n",
        "        return res\n",
        "\n",
        "class SmartHierarchicalClassSelector:\n",
        "\n",
        "    def __init__(self, class_content):\n",
        "\n",
        "        self.class_content = class_content\n",
        "\n",
        "    def __call__(self, x_batch):\n",
        "\n",
        "        ### x_batch is BS x C x H x W\n",
        "\n",
        "        prob = F.softmax(x_batch, dim = 1)  # BS x C x H x W -> BS x C x H x W\n",
        "        prob_array = aggregate_probs(prob,self.class_content) # BS x C x H x W -> list of N_LEVELS tensors BS x C x H x W\n",
        "        labels = [torch.argmax(p,dim = 1) for p in prob_array]\n",
        "\n",
        "        return labels"
      ],
      "metadata": {
        "id": "l-pVw57APEK4"
      },
      "execution_count": null,
      "outputs": []
    },
    {
      "cell_type": "code",
      "source": [
        "from torch.utils.data import Dataset\n",
        "from PIL import Image\n",
        "from PIL.Image import BILINEAR, LANCZOS\n",
        "import cv2\n",
        "import albumentations as A\n",
        "\n",
        "class SegDataset(Dataset):\n",
        "\n",
        "    def __init__(self,images_path, masks_path, labels, size, transform = None,\n",
        "                 resample = BILINEAR):\n",
        "\n",
        "        '''\n",
        "        pass masks_path = None to return only x_batch\n",
        "        '''\n",
        "        super().__init__()\n",
        "        self.images_path = Path(images_path)\n",
        "        self.masks_path = Path(masks_path) if masks_path else None\n",
        "        self.names = labels\n",
        "        self.transform = transform\n",
        "        self.size = size\n",
        "        self.max_pixel_value = 255\n",
        "        self.resample = resample\n",
        "\n",
        "    def get_image_path(self,i):\n",
        "\n",
        "        return self.images_path/f\"{self.names[i]}.jpg\"\n",
        "\n",
        "    def get_mask_path(self, i):\n",
        "\n",
        "        return self.masks_path/f\"{self.names[i]}.npy\"\n",
        "\n",
        "    def load_image_and_mask(self,i):\n",
        "        image_path = self.get_image_path(i)\n",
        "        image = Image.open(image_path)\n",
        "        image = image.resize(self.size, resample = self.resample)\n",
        "\n",
        "        if self.masks_path:\n",
        "            mask_path = self.get_mask_path(i)\n",
        "            mask = np.load(mask_path)\n",
        "            mask = cv2.resize(mask, self.size) ### no new classes after resize with default interpolation\n",
        "\n",
        "            return np.array(image), mask\n",
        "\n",
        "        else:\n",
        "            return np.array(image)\n",
        "\n",
        "    def __getitem__(self, i):\n",
        "\n",
        "        item = self.load_image_and_mask(i)\n",
        "        image, mask = item if self.masks_path else (item,None)\n",
        "        if self.transform: ### augmentation from albumentation, which transforms both image and mask\n",
        "\n",
        "            if self.masks_path:\n",
        "                aug_pair = self.transform(image = image, mask = mask)\n",
        "                image = aug_pair['image']\n",
        "                mask = aug_pair['mask']\n",
        "            else:\n",
        "                aug_pair = self.transform(image = image)\n",
        "                image = aug_pair['image']\n",
        "\n",
        "        image = image / self.max_pixel_value\n",
        "        image = np.transpose(image, (2,0,1)) ### H x W x C -> C x H x W\n",
        "\n",
        "        if self.masks_path:\n",
        "            return image.astype(np.float32), mask.astype(np.int64)\n",
        "\n",
        "        else:\n",
        "            return image.astype(np.float32)\n",
        "\n",
        "    def __len__(self):\n",
        "        return len(self.names)\n"
      ],
      "metadata": {
        "id": "r3lcx6ArIViz"
      },
      "execution_count": null,
      "outputs": []
    },
    {
      "cell_type": "code",
      "source": [
        "from sklearn.model_selection import train_test_split\n",
        "from torch.utils.data import DataLoader\n",
        "\n",
        "device = torch.device('cuda' if torch.cuda.is_available() else 'cpu')\n",
        "print(device)\n",
        "\n",
        "size = (256,256)\n",
        "test_size = 0.25\n",
        "batch_size = 16\n",
        "\n",
        "num_workers = 8\n",
        "prefetch_factor = 3\n",
        "\n",
        "# rng = torch.Generator()\n",
        "# rng.manual_seed(0)\n",
        "\n",
        "train_l, val_l = train_test_split(train_labels, test_size = test_size, random_state = 0)\n",
        "\n",
        "train_ds = SegDataset(images_path, masks_path, train_l, size, transform = None,\n",
        "                 resample = BILINEAR)\n",
        "train_gen = DataLoader(train_ds,batch_size = batch_size, shuffle = True,\n",
        "                       num_workers = num_workers, prefetch_factor = prefetch_factor)\n",
        "\n",
        "val_ds = SegDataset(images_path, masks_path, val_l, size, transform = None,\n",
        "                 resample = BILINEAR)\n",
        "val_gen = DataLoader(val_ds,batch_size = batch_size, shuffle = False,\n",
        "                       num_workers = num_workers, prefetch_factor = prefetch_factor)\n",
        "\n",
        "print(len(train_gen))\n",
        "print(len(val_gen))"
      ],
      "metadata": {
        "colab": {
          "base_uri": "https://localhost:8080/"
        },
        "id": "ImHCdBD4afxR",
        "outputId": "7c481289-718b-4658-98e6-976a1bfa2b18"
      },
      "execution_count": null,
      "outputs": [
        {
          "output_type": "stream",
          "name": "stdout",
          "text": [
            "cuda\n",
            "133\n",
            "45\n"
          ]
        },
        {
          "output_type": "stream",
          "name": "stderr",
          "text": [
            "/usr/local/lib/python3.10/dist-packages/torch/utils/data/dataloader.py:558: UserWarning: This DataLoader will create 8 worker processes in total. Our suggested max number of worker in current system is 2, which is smaller than what this DataLoader is going to create. Please be aware that excessive worker creation might get DataLoader running slow or even freeze, lower the worker number to avoid potential slowness/freeze if necessary.\n",
            "  warnings.warn(_create_warning_msg(\n"
          ]
        }
      ]
    },
    {
      "cell_type": "code",
      "source": [
        "import matplotlib.pyplot as plt\n",
        "from IPython.display import clear_output\n",
        "plt.rcParams[\"figure.figsize\"] = (12,12)\n",
        "\n",
        "def plot_examples(X,Y, k = 5, class_content = None, decomposed = False):\n",
        "    # X and Y are batches from data gen BS x C x H x W\n",
        "    rows = 2\n",
        "    if decomposed:\n",
        "        Y_list = decompose_mask(Y,class_content)\n",
        "        rows = rows + len(Y_list) - 1\n",
        "    for i in range(k):\n",
        "        plt.subplot(rows, k, i+1)\n",
        "        plt.axis(\"off\")\n",
        "        plt.imshow(X[i].to('cpu').permute((1,2,0))) ### C x H x W -> H x W x C\n",
        "        plt.title('Image')\n",
        "\n",
        "        if decomposed:\n",
        "            for j,Y_ in enumerate(Y_list):\n",
        "                plt.subplot(rows, k, i+k+j*k+1)\n",
        "                plt.axis(\"off\")\n",
        "                plt.imshow(Y_[i].to('cpu'), cmap = 'jet')\n",
        "                plt.title(f'Mask level {j+1}')\n",
        "        else:\n",
        "            plt.subplot(rows, k, i+k+1)\n",
        "            plt.axis(\"off\")\n",
        "            plt.imshow(Y[i], cmap = 'jet')\n",
        "            plt.title('Mask')\n",
        "\n",
        "    plt.show();"
      ],
      "metadata": {
        "id": "Nmo9KvOwckQm"
      },
      "execution_count": null,
      "outputs": []
    },
    {
      "cell_type": "code",
      "source": [
        "# plt.figure(figsize = (12,12))\n",
        "# X,Y = iter(train_gen).__next__()\n",
        "# X,Y = X.to(device), Y.to(device)\n",
        "# plot_examples(X,Y, class_content = class_content, decomposed = True)"
      ],
      "metadata": {
        "id": "9WTT7pC7TYhF"
      },
      "execution_count": null,
      "outputs": []
    },
    {
      "cell_type": "code",
      "source": [
        "import torch\n",
        "import torch.nn as nn\n",
        "import torch.nn.functional as F\n",
        "from torchvision import models\n",
        "import torch.optim as optim\n",
        "from time import time\n",
        "\n",
        "from matplotlib import rcParams\n",
        "rcParams['figure.figsize'] = (15,4)\n",
        "\n",
        "def create_convolution_block(in_channels, out_channels, kernel_size, block_depth,\n",
        "        enable_batchnorm, act_class, change_channels = 'first'):\n",
        "\n",
        "    res = nn.Sequential()\n",
        "    cin = in_channels\n",
        "    cout = in_channels\n",
        "\n",
        "    assert(change_channels in ['first','last']) # first for encoder and last for decoder\n",
        "\n",
        "    index_change_channels = 0 if change_channels == 'first' else block_depth-1\n",
        "\n",
        "    for i in range(block_depth):\n",
        "        if i == index_change_channels:\n",
        "            cout = out_channels\n",
        "        layer = nn.Sequential()\n",
        "        layer.add_module(f'conv', nn.Conv2d(in_channels = cin,out_channels = cout,\n",
        "                            kernel_size = kernel_size, padding = 'same'))\n",
        "        cin = cout\n",
        "\n",
        "        if enable_batchnorm:\n",
        "            layer.add_module(f'batchnorm',nn.BatchNorm2d(num_features=cout))\n",
        "\n",
        "        layer.add_module(f'activation', act_class())\n",
        "        res.add_module(f'conv_layer_{i}', layer)\n",
        "\n",
        "    return res\n",
        "\n",
        "class SegNetEncoder(nn.Module):\n",
        "\n",
        "    def __init__(self,\n",
        "                in_channels,\n",
        "                channels_array,\n",
        "                pool_kernel_size,\n",
        "                conv_kernel_size,\n",
        "                block_depth,\n",
        "                enable_batchnorm,\n",
        "                act_class):\n",
        "\n",
        "        super().__init__()\n",
        "        self.conv_blocks = nn.ModuleList()\n",
        "        self.poolings = nn.ModuleList()\n",
        "\n",
        "        for i, channels in enumerate(channels_array):\n",
        "            conv_block = create_convolution_block(in_channels,channels, pool_kernel_size,\n",
        "                    block_depth, enable_batchnorm, act_class, change_channels='first')\n",
        "            pooling = nn.MaxPool2d(kernel_size=pool_kernel_size,return_indices=True)\n",
        "            self.conv_blocks.append(conv_block)\n",
        "            self.poolings.append(pooling)\n",
        "            in_channels = channels\n",
        "\n",
        "    def forward(self, x):\n",
        "\n",
        "        pool_idx_array = []\n",
        "        for conv_block, pooling in zip(self.conv_blocks, self.poolings):\n",
        "            x = conv_block(x)\n",
        "            x, idx = pooling(x)\n",
        "            pool_idx_array.append(idx)\n",
        "\n",
        "        return x, pool_idx_array\n",
        "\n",
        "class SegNetDecoder(nn.Module):\n",
        "\n",
        "    def __init__(self,\n",
        "                in_channels,\n",
        "                out_channels,\n",
        "                inv_channels_array,\n",
        "                pool_kernel_size,\n",
        "                conv_kernel_size,\n",
        "                block_depth,\n",
        "                enable_batchnorm,\n",
        "                act_class):\n",
        "\n",
        "        super().__init__()\n",
        "        self.conv_blocks = nn.ModuleList()\n",
        "        self.poolings = nn.ModuleList()\n",
        "\n",
        "        for i, channels in enumerate(inv_channels_array):\n",
        "\n",
        "            conv_block = create_convolution_block(in_channels,channels, conv_kernel_size,\n",
        "                    block_depth, enable_batchnorm, act_class, change_channels='last')\n",
        "            unpooling = nn.MaxUnpool2d(kernel_size=pool_kernel_size)\n",
        "            self.conv_blocks.append(conv_block)\n",
        "            self.poolings.append(unpooling)\n",
        "            in_channels = channels\n",
        "\n",
        "        self.last_layer = nn.Conv2d(in_channels = in_channels,\n",
        "                                    out_channels=out_channels,\n",
        "                                    kernel_size=1,\n",
        "                                    padding = 'same')\n",
        "\n",
        "    def forward(self, x, inv_pool_idx_array):\n",
        "\n",
        "        for conv_block, unpooling, idx in zip(self.conv_blocks, self.poolings, inv_pool_idx_array):\n",
        "            x = unpooling(x, idx)\n",
        "            x = conv_block(x)\n",
        "\n",
        "        x = self.last_layer(x)\n",
        "\n",
        "        return x\n",
        "\n",
        "class SegNet(nn.Module):\n",
        "\n",
        "    def __init__(self,\n",
        "                 in_channels,\n",
        "                 out_channels,\n",
        "                 encoder_channels_array,\n",
        "                 decoder_channels_array,\n",
        "                 pool_kernel_size = 2,\n",
        "                 conv_kernel_size = 5,\n",
        "                 block_depth = 3,\n",
        "                 enable_batchnorm = True,\n",
        "                 act_class = nn.ReLU):\n",
        "        super().__init__()\n",
        "\n",
        "        assert len(encoder_channels_array) == len(decoder_channels_array)\n",
        "        assert np.allclose(encoder_channels_array[:-1],decoder_channels_array[:-1][::-1])\n",
        "\n",
        "        self.Encoder = SegNetEncoder(in_channels,\n",
        "                                     encoder_channels_array,\n",
        "                                     pool_kernel_size,\n",
        "                                     conv_kernel_size,\n",
        "                                     block_depth,\n",
        "                                     enable_batchnorm,\n",
        "                                     act_class)\n",
        "\n",
        "        self.bottleneck_conv = create_convolution_block(in_channels=encoder_channels_array[-1],\n",
        "                                                        out_channels=encoder_channels_array[-1],\n",
        "                                                        kernel_size=conv_kernel_size,\n",
        "                                                        block_depth = block_depth,\n",
        "                                                        enable_batchnorm = enable_batchnorm,\n",
        "                                                        act_class = act_class)\n",
        "\n",
        "\n",
        "        self.Decoder = SegNetDecoder(encoder_channels_array[-1],\n",
        "                                     out_channels,\n",
        "                                     decoder_channels_array,\n",
        "                                     pool_kernel_size,\n",
        "                                     conv_kernel_size,\n",
        "                                     block_depth,\n",
        "                                     enable_batchnorm,\n",
        "                                     act_class)\n",
        "\n",
        "    def forward(self, x):\n",
        "\n",
        "        # encoder\n",
        "        e, pool_idx_array = self.Encoder(x)\n",
        "        inv_pool_idx_array = pool_idx_array[::-1]\n",
        "\n",
        "        # bottleneck\n",
        "        b = self.bottleneck_conv(e)\n",
        "\n",
        "        # decoder\n",
        "        d = self.Decoder(b,inv_pool_idx_array)\n",
        "        return d"
      ],
      "metadata": {
        "id": "dkkiVictjFg_"
      },
      "execution_count": null,
      "outputs": []
    },
    {
      "cell_type": "code",
      "source": [
        "model = SegNet(in_channels=3,\n",
        "               out_channels=N_CLASSES,\n",
        "               encoder_channels_array = [64,128,256, 512],\n",
        "               decoder_channels_array = [256, 128, 64, 64],\n",
        "               pool_kernel_size = 2,\n",
        "               conv_kernel_size = 5,\n",
        "               block_depth = 3,\n",
        "               enable_batchnorm = True,\n",
        "               act_class = nn.ReLU).to(device)"
      ],
      "metadata": {
        "id": "Qq9FnGvUIoyO"
      },
      "execution_count": null,
      "outputs": []
    },
    {
      "cell_type": "code",
      "source": [
        "# Y_pred = model(X)"
      ],
      "metadata": {
        "id": "3cIHf3aYJGOD"
      },
      "execution_count": null,
      "outputs": []
    },
    {
      "cell_type": "code",
      "source": [
        "simple_class_selector = SimpleHierarchicalClassSelector(class_content)\n",
        "smart_class_selector = SmartHierarchicalClassSelector(class_content)\n",
        "metric = HierarchicalMIoU(class_content)"
      ],
      "metadata": {
        "id": "o4A2vj4MOJRn"
      },
      "execution_count": null,
      "outputs": []
    },
    {
      "cell_type": "code",
      "source": [
        "# metric(simple_class_selector(Y_pred),Y)"
      ],
      "metadata": {
        "id": "sv9t9ml1QU0W"
      },
      "execution_count": null,
      "outputs": []
    },
    {
      "cell_type": "code",
      "source": [
        "# metric(smart_class_selector(Y_pred),Y)"
      ],
      "metadata": {
        "id": "JqJmjwbrO8_I"
      },
      "execution_count": null,
      "outputs": []
    },
    {
      "cell_type": "code",
      "source": [
        "def plot_examples_learing(X,true_mask, predicted_masks, k = 3, class_content = None, decomposed = False):\n",
        "    # X is batch from data gen BS x C x H x W\n",
        "    # true_mask is batch from data gen BS x 1 x H x W\n",
        "    # predicted_masks is list of N_LEVELS tensors BS x 1 x H x W\n",
        "    rows = k\n",
        "    cols = 3\n",
        "    if decomposed:\n",
        "        Y_list = decompose_mask(true_mask,class_content)\n",
        "        cols = cols + 2*len(Y_list) - 2\n",
        "    for i in range(k):\n",
        "        plt.subplot(rows, cols, i*cols+1)\n",
        "        plt.axis(\"off\")\n",
        "        plt.imshow(X[i].to('cpu').permute((1,2,0))) ### C x H x W -> H x W x C\n",
        "        plt.title(f'Image #{i}')\n",
        "\n",
        "        if decomposed:\n",
        "            for j,Y_ in enumerate(Y_list):\n",
        "                plt.subplot(rows, cols, i*cols+2+j)\n",
        "                plt.axis(\"off\")\n",
        "                plt.imshow(Y_[i].to('cpu'), cmap = 'jet')\n",
        "                plt.title(f'True L{j+1} #{i}')\n",
        "\n",
        "                plt.subplot(rows, cols, i*cols+2+j + len(Y_list))\n",
        "                plt.axis(\"off\")\n",
        "                plt.imshow(predicted_masks[j][i].to('cpu'), cmap = 'jet')\n",
        "                plt.title(f'Predicted L{j+1} #{i}')\n",
        "        else:\n",
        "            plt.subplot(rows, cols, i*cols+2)\n",
        "            plt.axis(\"off\")\n",
        "            plt.imshow(true_mask[i].to('cpu'), cmap = 'jet')\n",
        "            plt.title(f'True #{i}')\n",
        "\n",
        "            plt.subplot(rows, cols, i*cols+3)\n",
        "            plt.axis(\"off\")\n",
        "            plt.imshow(predicted_masks[-1][i].to('cpu'), cmap = 'jet')\n",
        "            plt.title(f'Predicted #{i}')\n",
        "\n",
        "    plt.tight_layout()\n",
        "    plt.show();"
      ],
      "metadata": {
        "id": "b0gWe28vt0o_"
      },
      "execution_count": null,
      "outputs": []
    },
    {
      "cell_type": "code",
      "source": [
        "# plot_examples_learing(X,Y, simple_class_selector(Y_pred), decomposed=True, class_content = class_content)"
      ],
      "metadata": {
        "id": "4wZTTjUE02Dq"
      },
      "execution_count": null,
      "outputs": []
    },
    {
      "cell_type": "code",
      "source": [
        "# plot_examples_learing(X,Y, smart_class_selector(Y_pred), decomposed=True, class_content = class_content)"
      ],
      "metadata": {
        "id": "4HuH3fE_PHGn"
      },
      "execution_count": null,
      "outputs": []
    },
    {
      "cell_type": "code",
      "source": [
        "def score_model(model, class_selector, metric, data):\n",
        "\n",
        "    model.eval()  # testing mode\n",
        "    scores = {'mean':{},'std':{}}\n",
        "\n",
        "    ### compute sum and sum of squares in online manner\n",
        "\n",
        "    for X_batch, Y_label in tqdm(data):\n",
        "\n",
        "        Y_pred = class_selector(model(X_batch.to(device))) ### list of BS x 1 x H x W masks\n",
        "        metric_dict = metric(Y_pred, Y_label.to(device))\n",
        "\n",
        "        for key, val in metric_dict.items():\n",
        "\n",
        "            if key not in scores['mean']:\n",
        "                scores['mean'][key] = 0.0\n",
        "\n",
        "            scores['mean'][key] += val\n",
        "\n",
        "            if key not in scores['std']:\n",
        "                scores['std'][key] = 0.0\n",
        "\n",
        "            scores['std'][key] += val**2\n",
        "\n",
        "    ### now convert sum and sum squared to mean and std\n",
        "\n",
        "    for key in scores['mean']:\n",
        "        scores['mean'][key] = scores['mean'][key]/len(data)\n",
        "\n",
        "    for key in scores['std']:\n",
        "        scores['std'][key] = scores['std'][key]/len(data) - scores['mean'][key]**2 ## variance of metric on batch\n",
        "        scores['std'][key] = scores['std'][key] / len(data) ## variance of mean estimate\n",
        "        scores['std'][key] = np.sqrt(scores['std'][key]) ### std\n",
        "\n",
        "    return scores"
      ],
      "metadata": {
        "id": "kigqagWPQKWo"
      },
      "execution_count": null,
      "outputs": []
    },
    {
      "cell_type": "code",
      "source": [
        "\n",
        "from tqdm.notebook import tqdm\n",
        "\n",
        "def train(model, opt, loss_fn, class_selector, class_content, epochs, data_tr, data_val):\n",
        "\n",
        "    train_loss = []\n",
        "\n",
        "    for epoch in range(epochs):\n",
        "        print('* Epoch %d/%d' % (epoch+1, epochs))\n",
        "\n",
        "        avg_loss = 0.0\n",
        "        model.train()  # train mode\n",
        "\n",
        "        for X_batch, Y_batch in tqdm(data_tr):\n",
        "\n",
        "            X_batch, Y_batch = X_batch.to(device), Y_batch.to(device)\n",
        "\n",
        "            opt.zero_grad()\n",
        "\n",
        "            Y_pred = model(X_batch)\n",
        "            loss = loss_fn(Y_pred,Y_batch)\n",
        "            loss.backward()\n",
        "\n",
        "            opt.step()\n",
        "\n",
        "            # calculate loss\n",
        "            avg_loss += loss.detach().to('cpu').numpy() / len(data_tr)\n",
        "\n",
        "        print('loss: %f' % avg_loss)\n",
        "        train_loss.append(avg_loss)\n",
        "\n",
        "        model.eval() # testing mode\n",
        "\n",
        "        X_val, Y_val = next(iter(data_val))\n",
        "        X_val, Y_val = X_val.to(device).detach(), Y_val.to(device).detach()\n",
        "        Y_hat = class_selector(model(X_val))\n",
        "\n",
        "        clear_output(wait=True)\n",
        "        plot_examples_learing(X_val,Y_val, Y_hat, decomposed=True, class_content = class_content)\n",
        "\n",
        "        print('%d / %d - loss: %f' % (epoch+1, epochs, avg_loss))\n",
        "\n",
        "\n",
        "        # avg_loss = 0.0\n",
        "        # for X_batch, Y_batch in data_val:\n",
        "        #     # data to device\n",
        "        #     X_batch, Y_batch = X_batch.to(device).detach(), Y_batch.to(device).detach()\n",
        "        #     Y_pred = model(X_batch)\n",
        "        #     loss = loss_fn(Y_pred,Y_batch)\n",
        "        #     avg_loss += loss.detach().to('cpu').numpy() / len(data_val)\n",
        "        # val_loss.append(avg_loss)\n",
        "\n",
        "    return train_loss"
      ],
      "metadata": {
        "id": "WrQ0S42clbGn"
      },
      "execution_count": null,
      "outputs": []
    },
    {
      "cell_type": "code",
      "source": [
        "def plot_loss(train_loss, val_loss):\n",
        "\n",
        "    plt.plot(train_loss, label = 'train')\n",
        "    plt.plot(val_loss, label = 'val')\n",
        "    plt.legend()\n",
        "    plt.title('Loss')\n",
        "    plt.xlabel('epoch')\n",
        "    plt.show()"
      ],
      "metadata": {
        "id": "sD-a95nMXKHj"
      },
      "execution_count": null,
      "outputs": []
    },
    {
      "cell_type": "code",
      "source": [
        "lr = 1e-3\n",
        "max_epochs = 20\n",
        "bce_loss = nn.CrossEntropyLoss()\n",
        "opt = optim.Adam(model.parameters(), lr = lr)\n",
        "train_loss = train(model = model,\n",
        "                opt = opt,\n",
        "                loss_fn = bce_loss,\n",
        "                class_selector = simple_class_selector,\n",
        "                class_content = class_content,\n",
        "                epochs = max_epochs,\n",
        "                data_tr = train_gen,\n",
        "                data_val = val_gen)"
      ],
      "metadata": {
        "colab": {
          "base_uri": "https://localhost:8080/",
          "height": 794,
          "referenced_widgets": [
            "4e2d13cbad4e4d3f874a3bd05cfdb490",
            "7c7102354dbc4c1eb98d3596175160ae",
            "f250e6c0859744cc9a48f9fced593ad1",
            "ba142ccf1cd447d1932c6d25a93196f7",
            "c1452d905374455b828382cea575753a",
            "d8a5470f5f0b4b7696497ce28c6d2b55",
            "35f9c68ffe354e5dbd6908c0a7f3f968",
            "1ec456e49dde4ec3a74e2436bc9b87e8",
            "a706c0c3a50f42cca0bbf4b97f846238",
            "832fd85130a94cbba1417826e5c488c0",
            "68f32d8309ce462a9885cefbebc56569",
            "b1dcba93105244748ae6c594c32fb8bf"
          ]
        },
        "id": "a_I-iw9WaUXO",
        "outputId": "ff8efa16-d77e-4c1a-db25-d3905b64cb5e"
      },
      "execution_count": null,
      "outputs": [
        {
          "output_type": "display_data",
          "data": {
            "text/plain": [
              "<Figure size 1500x400 with 21 Axes>"
            ],
            "image/png": "[encoded data removed]"
          },
          "metadata": {}
        },
        {
          "output_type": "stream",
          "name": "stdout",
          "text": [
            "7 / 20 - loss: 0.605948\n",
            "* Epoch 8/20\n"
          ]
        },
        {
          "output_type": "display_data",
          "data": {
            "text/plain": [
              "  0%|          | 0/133 [00:00<?, ?it/s]"
            ],
            "application/vnd.jupyter.widget-view+json": {
              "version_major": 2,
              "version_minor": 0,
              "model_id": "7c7102354dbc4c1eb98d3596175160ae"
            }
          },
          "metadata": {}
        },
        {
          "output_type": "error",
          "ename": "KeyboardInterrupt",
          "evalue": "",
          "traceback": [
            "\u001b[0;31m---------------------------------------------------------------------------\u001b[0m",
            "\u001b[0;31mKeyboardInterrupt\u001b[0m                         Traceback (most recent call last)",
            "\u001b[0;32m<ipython-input-50-b047a218f73b>\u001b[0m in \u001b[0;36m<cell line: 5>\u001b[0;34m()\u001b[0m\n\u001b[1;32m      3\u001b[0m \u001b[0mbce_loss\u001b[0m \u001b[0;34m=\u001b[0m \u001b[0mnn\u001b[0m\u001b[0;34m.\u001b[0m\u001b[0mCrossEntropyLoss\u001b[0m\u001b[0;34m(\u001b[0m\u001b[0;34m)\u001b[0m\u001b[0;34m\u001b[0m\u001b[0;34m\u001b[0m\u001b[0m\n\u001b[1;32m      4\u001b[0m \u001b[0mopt\u001b[0m \u001b[0;34m=\u001b[0m \u001b[0moptim\u001b[0m\u001b[0;34m.\u001b[0m\u001b[0mAdam\u001b[0m\u001b[0;34m(\u001b[0m\u001b[0mmodel\u001b[0m\u001b[0;34m.\u001b[0m\u001b[0mparameters\u001b[0m\u001b[0;34m(\u001b[0m\u001b[0;34m)\u001b[0m\u001b[0;34m,\u001b[0m \u001b[0mlr\u001b[0m \u001b[0;34m=\u001b[0m \u001b[0mlr\u001b[0m\u001b[0;34m)\u001b[0m\u001b[0;34m\u001b[0m\u001b[0;34m\u001b[0m\u001b[0m\n\u001b[0;32m----> 5\u001b[0;31m train_loss, val_loss = train(model = model, \n\u001b[0m\u001b[1;32m      6\u001b[0m                              \u001b[0mopt\u001b[0m \u001b[0;34m=\u001b[0m \u001b[0mopt\u001b[0m\u001b[0;34m,\u001b[0m\u001b[0;34m\u001b[0m\u001b[0;34m\u001b[0m\u001b[0m\n\u001b[1;32m      7\u001b[0m                              \u001b[0mloss_fn\u001b[0m \u001b[0;34m=\u001b[0m \u001b[0mbce_loss\u001b[0m\u001b[0;34m,\u001b[0m\u001b[0;34m\u001b[0m\u001b[0;34m\u001b[0m\u001b[0m\n",
            "\u001b[0;32m<ipython-input-43-ac4fc75381e6>\u001b[0m in \u001b[0;36mtrain\u001b[0;34m(model, opt, loss_fn, class_selector, class_content, epochs, data_tr, data_val)\u001b[0m\n\u001b[1;32m     25\u001b[0m \u001b[0;34m\u001b[0m\u001b[0m\n\u001b[1;32m     26\u001b[0m             \u001b[0;31m# calculate loss\u001b[0m\u001b[0;34m\u001b[0m\u001b[0;34m\u001b[0m\u001b[0m\n\u001b[0;32m---> 27\u001b[0;31m             \u001b[0mavg_loss\u001b[0m \u001b[0;34m+=\u001b[0m \u001b[0mloss\u001b[0m\u001b[0;34m.\u001b[0m\u001b[0mdetach\u001b[0m\u001b[0;34m(\u001b[0m\u001b[0;34m)\u001b[0m\u001b[0;34m.\u001b[0m\u001b[0mto\u001b[0m\u001b[0;34m(\u001b[0m\u001b[0;34m'cpu'\u001b[0m\u001b[0;34m)\u001b[0m\u001b[0;34m.\u001b[0m\u001b[0mnumpy\u001b[0m\u001b[0;34m(\u001b[0m\u001b[0;34m)\u001b[0m \u001b[0;34m/\u001b[0m \u001b[0mlen\u001b[0m\u001b[0;34m(\u001b[0m\u001b[0mdata_tr\u001b[0m\u001b[0;34m)\u001b[0m\u001b[0;34m\u001b[0m\u001b[0;34m\u001b[0m\u001b[0m\n\u001b[0m\u001b[1;32m     28\u001b[0m \u001b[0;34m\u001b[0m\u001b[0m\n\u001b[1;32m     29\u001b[0m         \u001b[0mprint\u001b[0m\u001b[0;34m(\u001b[0m\u001b[0;34m'loss: %f'\u001b[0m \u001b[0;34m%\u001b[0m \u001b[0mavg_loss\u001b[0m\u001b[0;34m)\u001b[0m\u001b[0;34m\u001b[0m\u001b[0;34m\u001b[0m\u001b[0m\n",
            "\u001b[0;31mKeyboardInterrupt\u001b[0m: "
          ]
        }
      ]
    },
    {
      "cell_type": "code",
      "source": [
        "plot_loss(train_loss, val_loss)"
      ],
      "metadata": {
        "id": "ghvegeQZ0mH3",
        "colab": {
          "base_uri": "https://localhost:8080/",
          "height": 144
        },
        "outputId": "71775bd5-6489-4546-8d06-62ec982b082b"
      },
      "execution_count": null,
      "outputs": [
        {
          "output_type": "error",
          "ename": "NameError",
          "evalue": "name 'train_loss' is not defined",
          "traceback": [
            "\u001b[0;31m---------------------------------------------------------------------------\u001b[0m",
            "\u001b[0;31mNameError\u001b[0m                                 Traceback (most recent call last)",
            "\u001b[0;32m<ipython-input-51-484b807772bb>\u001b[0m in \u001b[0;36m<cell line: 1>\u001b[0;34m()\u001b[0m\n\u001b[0;32m----> 1\u001b[0;31m \u001b[0mplot_loss\u001b[0m\u001b[0;34m(\u001b[0m\u001b[0mtrain_loss\u001b[0m\u001b[0;34m,\u001b[0m \u001b[0mval_loss\u001b[0m\u001b[0;34m)\u001b[0m\u001b[0;34m\u001b[0m\u001b[0;34m\u001b[0m\u001b[0m\n\u001b[0m",
            "\u001b[0;31mNameError\u001b[0m: name 'train_loss' is not defined"
          ]
        }
      ]
    },
    {
      "cell_type": "code",
      "source": [
        "score_model(model, simple_class_selector, metric, val_gen)"
      ],
      "metadata": {
        "id": "KLHLmzH2kqre",
        "colab": {
          "base_uri": "https://localhost:8080/",
          "height": 478,
          "referenced_widgets": [
            "8f28a20caa5a4fbd8bc0c642b293a03e",
            "1758b0df143c4ac08e301ebad3126771",
            "a2b66e17d3c744c9b7c6c43129abb11c",
            "58a6cb2fe835427a9bfc01b73747b16f",
            "95fc5cdcda6b431fbe8f4becacb640c8",
            "beaf46bee7c6476795e68e9368b6f104",
            "1bcdaf82c31040c892f88c32cf056d63",
            "353d41a58ce94cfea026110f28f54c8c",
            "a84ed1cf81a14f379d7899843690ff21",
            "5eeca66d160648178209bff5b14232b9",
            "ae01f1817b7049dda8c6b35fca6255b1"
          ]
        },
        "outputId": "2ba9f3f3-9a3c-4df9-981d-0d5f0ae166a1"
      },
      "execution_count": null,
      "outputs": [
        {
          "output_type": "display_data",
          "data": {
            "text/plain": [
              "  0%|          | 0/45 [00:00<?, ?it/s]"
            ],
            "application/vnd.jupyter.widget-view+json": {
              "version_major": 2,
              "version_minor": 0,
              "model_id": "8f28a20caa5a4fbd8bc0c642b293a03e"
            }
          },
          "metadata": {}
        },
        {
          "output_type": "execute_result",
          "data": {
            "text/plain": [
              "{'mean': {'level_1': 0.793625145726113,\n",
              "  'level_1_body': 0.793625145726113,\n",
              "  'level_2': 0.5450129364596882,\n",
              "  'level_2_upper_body': 0.793625145726113,\n",
              "  'level_2_lower_body': 0.29640072719326316,\n",
              "  'level_3': 0.2152557288132467,\n",
              "  'level_3_low_hand': 0.793625145726113,\n",
              "  'level_3_up_hand': 0.03299894840175981,\n",
              "  'level_3_torso': 0.16543254145962547,\n",
              "  'level_3_head': 0.0041666668251474585,\n",
              "  'level_3_low_leg': 0.2409924381343951,\n",
              "  'level_3_up_leg': 0.05431863233243943},\n",
              " 'std': {'level_1': 0.0063387961347525276,\n",
              "  'level_1_body': 0.0063387961347525276,\n",
              "  'level_2': 0.004358634926893703,\n",
              "  'level_2_upper_body': 0.0063387961347525276,\n",
              "  'level_2_lower_body': 0.007841873150936856,\n",
              "  'level_3': 0.0027466586043454412,\n",
              "  'level_3_low_hand': 0.0063387961347525276,\n",
              "  'level_3_up_hand': 0.0026771828180282143,\n",
              "  'level_3_torso': 0.005851261992880673,\n",
              "  'level_3_head': 0.0023240556248149526,\n",
              "  'level_3_low_leg': 0.008562113236643314,\n",
              "  'level_3_up_leg': 0.008393724029307456}}"
            ]
          },
          "metadata": {},
          "execution_count": 52
        }
      ]
    },
    {
      "cell_type": "code",
      "source": [
        "score_model(model, smart_class_selector, metric, val_gen)"
      ],
      "metadata": {
        "colab": {
          "base_uri": "https://localhost:8080/",
          "height": 478,
          "referenced_widgets": [
            "621d66ada7954f558e538c7840dd6e48",
            "fab1113eacfa4e4bb54043571318f3ea",
            "5e1a479bc0f1404da70632592780b652",
            "18ef6079aa4e4f68ba593141e2468ec4",
            "53d7153629454e3b85a47442c23e01a0",
            "d704a564e3584f5b813e48311e5c9129",
            "3af7a62023fd46809229316d84c34a23",
            "dc5b83c0990e40b5a0cecdbfcf6cf1c1",
            "f62f36461af847bf927acfa5a21eb889",
            "7d07718329804ef9b8b15e9c99c3111a",
            "e027f1532d8149f6a239d6cd773a55bc"
          ]
        },
        "id": "qJ6xGN4y-x51",
        "outputId": "b2c6076c-972d-42d3-bf46-e5c9c8c72358"
      },
      "execution_count": null,
      "outputs": [
        {
          "output_type": "display_data",
          "data": {
            "text/plain": [
              "  0%|          | 0/45 [00:00<?, ?it/s]"
            ],
            "application/vnd.jupyter.widget-view+json": {
              "version_major": 2,
              "version_minor": 0,
              "model_id": "621d66ada7954f558e538c7840dd6e48"
            }
          },
          "metadata": {}
        },
        {
          "output_type": "execute_result",
          "data": {
            "text/plain": [
              "{'mean': {'level_1': 0.7556213333294186,\n",
              "  'level_1_body': 0.7556213333294186,\n",
              "  'level_2': 0.5370886453480931,\n",
              "  'level_2_upper_body': 0.7650491019071831,\n",
              "  'level_2_lower_body': 0.3091281887890031,\n",
              "  'level_3': 0.18978320517857172,\n",
              "  'level_3_low_hand': 0.793625145726113,\n",
              "  'level_3_up_hand': 0.03299894840175981,\n",
              "  'level_3_torso': 0.0027918428992992164,\n",
              "  'level_3_head': 0.018290855724689824,\n",
              "  'level_3_low_leg': 0.2409924381343951,\n",
              "  'level_3_up_leg': 0.05000000018517315},\n",
              " 'std': {'level_1': 0.008024902301908051,\n",
              "  'level_1_body': 0.008024902301908051,\n",
              "  'level_2': 0.004863109777387757,\n",
              "  'level_2_upper_body': 0.007650291445980943,\n",
              "  'level_2_lower_body': 0.007503996449185515,\n",
              "  'level_3': 0.0023450788341608693,\n",
              "  'level_3_low_hand': 0.0063387961347525276,\n",
              "  'level_3_up_hand': 0.0026771828180282143,\n",
              "  'level_3_torso': 0.0019196260827500254,\n",
              "  'level_3_head': 0.0020757018058448584,\n",
              "  'level_3_low_leg': 0.008562113236643314,\n",
              "  'level_3_up_leg': 0.008240220542158692}}"
            ]
          },
          "metadata": {},
          "execution_count": 53
        }
      ]
    },
    {
      "cell_type": "code",
      "source": [
        "import gc\n",
        "torch.cuda.empty_cache()\n",
        "gc.collect()"
      ],
      "metadata": {
        "colab": {
          "base_uri": "https://localhost:8080/"
        },
        "id": "-saSHviak9Cc",
        "outputId": "f1cf66a0-0a99-4560-abce-7c1a0252ee2a"
      },
      "execution_count": null,
      "outputs": [
        {
          "output_type": "execute_result",
          "data": {
            "text/plain": [
              "0"
            ]
          },
          "metadata": {},
          "execution_count": 48
        }
      ]
    },
    {
      "cell_type": "code",
      "source": [
        "!git init"
      ],
      "metadata": {
        "id": "ShyvvKa82okx",
        "colab": {
          "base_uri": "https://localhost:8080/"
        },
        "outputId": "abc35773-c082-4023-cf11-68fdea9a0960"
      },
      "execution_count": null,
      "outputs": [
        {
          "output_type": "stream",
          "name": "stdout",
          "text": [
            "\u001b[33mhint: Using 'master' as the name for the initial branch. This default branch name\u001b[m\n",
            "\u001b[33mhint: is subject to change. To configure the initial branch name to use in all\u001b[m\n",
            "\u001b[33mhint: of your new repositories, which will suppress this warning, call:\u001b[m\n",
            "\u001b[33mhint: \u001b[m\n",
            "\u001b[33mhint: \tgit config --global init.defaultBranch <name>\u001b[m\n",
            "\u001b[33mhint: \u001b[m\n",
            "\u001b[33mhint: Names commonly chosen instead of 'master' are 'main', 'trunk' and\u001b[m\n",
            "\u001b[33mhint: 'development'. The just-created branch can be renamed via this command:\u001b[m\n",
            "\u001b[33mhint: \u001b[m\n",
            "\u001b[33mhint: \tgit branch -m <name>\u001b[m\n",
            "Initialized empty Git repository in /content/.git/\n"
          ]
        }
      ]
    },
    {
      "cell_type": "code",
      "source": [
        "!git --set-upstream https://github.com/cybberowl/pascal_part_MIL.git"
      ],
      "metadata": {
        "colab": {
          "base_uri": "https://localhost:8080/"
        },
        "id": "CisGrOCq2yri",
        "outputId": "aeed7d29-732c-489f-91bc-3b738e819d6b"
      },
      "execution_count": null,
      "outputs": [
        {
          "output_type": "stream",
          "name": "stdout",
          "text": [
            "unknown option: --set-upstream\n",
            "usage: git [--version] [--help] [-C <path>] [-c <name>=<value>]\n",
            "           [--exec-path[=<path>]] [--html-path] [--man-path] [--info-path]\n",
            "           [-p | --paginate | -P | --no-pager] [--no-replace-objects] [--bare]\n",
            "           [--git-dir=<path>] [--work-tree=<path>] [--namespace=<name>]\n",
            "           [--super-prefix=<path>] [--config-env=<name>=<envvar>]\n",
            "           <command> [<args>]\n"
          ]
        }
      ]
    },
    {
      "cell_type": "code",
      "source": [],
      "metadata": {
        "id": "FE_39-CG3A9h"
      },
      "execution_count": null,
      "outputs": []
    }
  ]
}